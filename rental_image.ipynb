{
 "cells": [
  {
   "cell_type": "code",
   "execution_count": 1,
   "metadata": {
    "collapsed": true
   },
   "outputs": [],
   "source": [
    "import numpy as np\n",
    "import tensorflow as tf"
   ]
  },
  {
   "cell_type": "code",
   "execution_count": 2,
   "metadata": {
    "collapsed": true
   },
   "outputs": [],
   "source": [
    "train_data = np.load(\"train_data.npy\")\n",
    "train_label = np.load(\"train_label.npy\") \n",
    "# train_id = np.load(\"train_id.npy\")"
   ]
  },
  {
   "cell_type": "code",
   "execution_count": 40,
   "metadata": {
    "collapsed": false
   },
   "outputs": [],
   "source": [
    "y_train = list(map(lambda x: 0 if x == 'low' else (1 if x == 'medium' else 2), train_label))"
   ]
  },
  {
   "cell_type": "code",
   "execution_count": 43,
   "metadata": {
    "collapsed": false
   },
   "outputs": [],
   "source": [
    "y_train_list = np.zeros((len(y_train), 3))\n",
    "for i in range(len(y_train)):\n",
    "    y_train_list[i, y_train[i]] = 1"
   ]
  },
  {
   "cell_type": "code",
   "execution_count": 49,
   "metadata": {
    "collapsed": false
   },
   "outputs": [],
   "source": [
    "y_train_list = y_train_list.astype(np.float32)"
   ]
  },
  {
   "cell_type": "code",
   "execution_count": 3,
   "metadata": {
    "collapsed": false
   },
   "outputs": [
    {
     "data": {
      "text/plain": [
       "dtype('float32')"
      ]
     },
     "execution_count": 3,
     "metadata": {},
     "output_type": "execute_result"
    }
   ],
   "source": [
    "train_data = train_data.astype(np.float32)\n",
    "train_data.dtype"
   ]
  },
  {
   "cell_type": "markdown",
   "metadata": {},
   "source": [
    "### Default tensorflow variable dtype is tf.float32\n",
    "### Placeholder dtype must be consitent with the feed_dict dtype, even tf.float32 != np.float32"
   ]
  },
  {
   "cell_type": "code",
   "execution_count": null,
   "metadata": {
    "collapsed": true
   },
   "outputs": [],
   "source": [
    "#sess = tf.InteractiveSession()"
   ]
  },
  {
   "cell_type": "code",
   "execution_count": 26,
   "metadata": {
    "collapsed": false
   },
   "outputs": [],
   "source": [
    "def weight_variable(shape):\n",
    "    initial = tf.truncated_normal(shape, stddev=0.1)\n",
    "    return tf.Variable(initial)\n",
    "\n",
    "def bias_variable(shape):\n",
    "    initial = tf.constant(0.1, shape=shape)\n",
    "    return tf.Variable(initial)\n",
    "\n",
    "def conv2d(x, W):\n",
    "    return tf.nn.conv2d(x, W, strides=[1, 1, 1, 1], padding='SAME', use_cudnn_on_gpu=False)\n",
    "\n",
    "def max_pool_2x2(x):\n",
    "    return tf.nn.max_pool(x, ksize=[1, 2, 2, 1], strides=[1, 2, 2, 1], padding='SAME')\n",
    "\n",
    "def max_pool_3x4(x):\n",
    "    return tf.nn.max_pool(x, ksize=[1, 3, 4, 1], strides=[1, 3, 4, 1], padding='SAME')\n",
    "\n",
    "def max_pool_4x4(x):\n",
    "    return tf.nn.max_pool(x, ksize=[1, 4, 4, 1], strides=[1, 4, 4, 1], padding='SAME')"
   ]
  },
  {
   "cell_type": "markdown",
   "metadata": {},
   "source": [
    "## Define input variable"
   ]
  },
  {
   "cell_type": "code",
   "execution_count": 5,
   "metadata": {
    "collapsed": false
   },
   "outputs": [],
   "source": [
    "x = tf.placeholder(shape=[None, 480, 640, 3], dtype=\"float\")\n",
    "y_ = tf.placeholder(shape=[None, 3], dtype=\"float\")"
   ]
  },
  {
   "cell_type": "markdown",
   "metadata": {},
   "source": [
    "## Define ConNet weight and bias"
   ]
  },
  {
   "cell_type": "code",
   "execution_count": 22,
   "metadata": {
    "collapsed": false
   },
   "outputs": [],
   "source": [
    "W_conv1 = weight_variable([10, 10, 3, 16]) # 5 by 5 is the kernel size. 1 is the input channel and 32 is the output channel\n",
    "b_conv1 = bias_variable([16])\n",
    "\n",
    "keep_prob = tf.placeholder(dtype=\"float\")\n",
    "x_drop = tf.nn.dropout(x, keep_prob)\n",
    "h_conv1 = tf.nn.relu(conv2d(x_drop, W_conv1) + b_conv1)\n",
    "h_pool1 = max_pool_4x4(h_conv1)"
   ]
  },
  {
   "cell_type": "code",
   "execution_count": 23,
   "metadata": {
    "collapsed": true
   },
   "outputs": [],
   "source": [
    "W_conv2 = weight_variable([10, 10, 16, 16])\n",
    "b_conv2 = bias_variable([16])\n",
    "\n",
    "keep_prob_2 = tf.placeholder(dtype=\"float\")\n",
    "h_pool1_drop = tf.nn.dropout(h_pool1, keep_prob_2)\n",
    "h_conv2 = tf.nn.relu(conv2d(h_pool1_drop, W_conv2) + b_conv2)\n",
    "h_pool2 = max_pool_4x4(h_conv2)"
   ]
  },
  {
   "cell_type": "code",
   "execution_count": 27,
   "metadata": {
    "collapsed": true
   },
   "outputs": [],
   "source": [
    "W_conv3 = weight_variable([10, 10, 16, 32])\n",
    "b_conv3 = bias_variable([32])\n",
    "\n",
    "keep_prob_3 = tf.placeholder(dtype=\"float\")\n",
    "h_pool2_drop = tf.nn.dropout(h_pool2, keep_prob_3)\n",
    "h_conv3 = tf.nn.relu(conv2d(h_pool2_drop, W_conv3) + b_conv3)\n",
    "h_pool3 = max_pool_3x4(h_conv3)"
   ]
  },
  {
   "cell_type": "code",
   "execution_count": 32,
   "metadata": {
    "collapsed": true
   },
   "outputs": [],
   "source": [
    "W_fc_4 = weight_variable([10*10*32, 1024])\n",
    "b_fc_4 = bias_variable([1024])\n",
    "\n",
    "h_pool3_flat = tf.reshape(h_pool3, [-1, 10*10*32])\n",
    "y_fc_4 = tf.nn.relu(tf.matmul(h_pool3_flat, W_fc_4) + b_fc_4)"
   ]
  },
  {
   "cell_type": "code",
   "execution_count": 33,
   "metadata": {
    "collapsed": true
   },
   "outputs": [],
   "source": [
    "W_fc_5 = weight_variable([1024, 3])\n",
    "b_fc_3 = bias_variable([3])\n",
    "\n",
    "y_predict = tf.matmul(y_fc_4, W_fc_5) + b_fc_3"
   ]
  },
  {
   "cell_type": "markdown",
   "metadata": {},
   "source": [
    "## Forward path"
   ]
  },
  {
   "cell_type": "code",
   "execution_count": 53,
   "metadata": {
    "collapsed": false
   },
   "outputs": [],
   "source": [
    "cross_entropy = tf.reduce_mean(tf.nn.softmax_cross_entropy_with_logits(labels=y_, logits=y_predict))\n",
    "train_step = tf.train.AdamOptimizer(1e-4).minimize(cross_entropy)\n",
    "\n",
    "correct_prediction = tf.equal(tf.argmax(y_predict,1), tf.argmax(y_,1))\n",
    "accuracy = tf.reduce_mean(tf.cast(correct_prediction, tf.float32))"
   ]
  },
  {
   "cell_type": "code",
   "execution_count": null,
   "metadata": {
    "collapsed": false
   },
   "outputs": [
    {
     "name": "stdout",
     "output_type": "stream",
     "text": [
      "step 0, training accuracy 0.5\n",
      "step 1, training accuracy 0.5\n",
      "step 2, training accuracy 1\n",
      "step 3, training accuracy 0.9\n"
     ]
    }
   ],
   "source": [
    "sess = tf.InteractiveSession()\n",
    "sess.run(tf.global_variables_initializer())\n",
    "\n",
    "for i in range(16):\n",
    "    batch_temp = train_data[10*i: 10*(i+1)]\n",
    "    label_temp = y_train_list[10*i: 10*(i+1)]\n",
    "    train_accuracy = accuracy.eval(feed_dict={x:batch_temp, y_: label_temp, keep_prob: 1., keep_prob_2: 1., keep_prob_3: 1.})\n",
    "    print(\"step %d, training accuracy %g\"%(i, train_accuracy))\n",
    "    train_step.run(feed_dict={x: batch_temp, y_: label_temp, keep_prob: 0.5, keep_prob_2: 0.5, keep_prob_3: 0.5})\n",
    "    #with tf.Session() as sess:\n",
    "    #sess.run(tf.global_variables_initializer())\n",
    "    #print(sess.run(y_predict, feed_dict={x: batch_temp, keep_prob: 0.5, keep_prob_2: 0.5, keep_prob_3: 0.5}))"
   ]
  },
  {
   "cell_type": "code",
   "execution_count": 28,
   "metadata": {
    "collapsed": false
   },
   "outputs": [
    {
     "data": {
      "text/plain": [
       "<tf.Tensor 'Relu_6:0' shape=(?, 30, 40, 32) dtype=float32>"
      ]
     },
     "execution_count": 28,
     "metadata": {},
     "output_type": "execute_result"
    }
   ],
   "source": [
    "h_conv3"
   ]
  },
  {
   "cell_type": "code",
   "execution_count": 52,
   "metadata": {
    "collapsed": false
   },
   "outputs": [
    {
     "data": {
      "text/plain": [
       "167"
      ]
     },
     "execution_count": 52,
     "metadata": {},
     "output_type": "execute_result"
    }
   ],
   "source": [
    "len(train_label)"
   ]
  }
 ],
 "metadata": {
  "anaconda-cloud": {},
  "kernelspec": {
   "display_name": "Python [Root]",
   "language": "python",
   "name": "Python [Root]"
  },
  "language_info": {
   "codemirror_mode": {
    "name": "ipython",
    "version": 3
   },
   "file_extension": ".py",
   "mimetype": "text/x-python",
   "name": "python",
   "nbconvert_exporter": "python",
   "pygments_lexer": "ipython3",
   "version": "3.5.2"
  }
 },
 "nbformat": 4,
 "nbformat_minor": 0
}
